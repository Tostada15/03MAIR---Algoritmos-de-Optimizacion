{
  "nbformat": 4,
  "nbformat_minor": 0,
  "metadata": {
    "colab": {
      "provenance": [],
      "include_colab_link": true
    },
    "kernelspec": {
      "name": "python3",
      "display_name": "Python 3"
    }
  },
  "cells": [
    {
      "cell_type": "markdown",
      "metadata": {
        "id": "view-in-github",
        "colab_type": "text"
      },
      "source": [
        "<a href=\"https://colab.research.google.com/github/Tostada15/03MAIR---Algoritmos-de-Optimizacion/blob/main/Trabajo_Pr%C3%A1ctico.ipynb\" target=\"_parent\"><img src=\"https://colab.research.google.com/assets/colab-badge.svg\" alt=\"Open In Colab\"/></a>"
      ]
    },
    {
      "cell_type": "markdown",
      "metadata": {
        "id": "hVbXYX-RfPWh"
      },
      "source": [
        "# Algoritmos de optimización - Trabajo Práctico<br>\n",
        "Nombre y Apellidos: Jorge Luis Tuesta Alvarez  <br>\n",
        "Url: https://github.com/Tostada15/03MAIR---Algoritmos-de-Optimizacion/blob/main/Trabajo_Pr%C3%A1ctico.ipynb<br>\n",
        "Google Colab: https://colab.research.google.com/drive/1hZtEDsSTZtGln4-6NgNKhlb4yf_Pwvy1 <br>\n",
        "Problema:\n",
        ">1. Sesiones de doblaje <br>\n",
        ">2. Organizar los horarios de partidos de una jornada de La Liga<br>\n",
        ">3. Configuración de Tribunales\n",
        "\n",
        "Descripción del problema:(copiar enunciado)\n",
        "\n",
        "Se precisa coordinar el doblaje de una película. Los actores del doblaje deben coincidir en las\n",
        "tomas en las que sus personajes aparecen juntos en las diferentes tomas. Los actores de\n",
        "doblaje cobran todos la misma cantidad por cada día que deben desplazarse hasta el estudio de\n",
        "grabación independientemente del número de tomas que se graben. No es posible grabar más\n",
        "de 6 tomas por día. El objetivo es planificar las sesiones por día de manera que el gasto por los\n",
        "servicios de los actores de doblaje sea el menor posible.\n",
        "\n",
        "Los datos son:\n",
        "\n",
        "\n",
        "Número de actores: 10\n",
        "Número de tomas : 30\n",
        "Actores/Tomas : https://bit.ly/36D8IuK\n",
        "- 1 indica que el actor participa en la toma\n",
        "- 0 en caso contrario\n",
        "\n",
        "\n",
        "\n",
        "\n",
        "                                        "
      ]
    },
    {
      "cell_type": "markdown",
      "source": [
        "#Modelo\n",
        "- ¿Como represento el espacio de soluciones?\n",
        "- ¿Cual es la función objetivo?\n",
        "- ¿Como implemento las restricciones?"
      ],
      "metadata": {
        "id": "Sbo9IqQtpaHZ"
      }
    },
    {
      "cell_type": "markdown",
      "source": [
        "\n",
        "\n",
        "*   El espacio de soluciones esta representado por todas las posibles combinaciones de las tomas y dias de grabacion.\n",
        "*   La funcion objetivo es minimizar el costo total de los actores teniendo en cuenta que cada actor cobra lo mismo por dia de grabacion independientemente del numero de tomas que se graban en ese dia.\n",
        "      \n",
        "      Imaginando que tengo 3 tomas y 2 dias de grabacion, ademas se cuenta con solo 3 actores y el costo por cada actor es de 50 euros.\n",
        "\n",
        "      El dia 1: Toma 1 (Actor 1, Actor 2), Toma 2(Actor 2, Actor 3)\n",
        "      El dia 2: Toma 3 (Actor 1, Actor 3)\n",
        "\n",
        "      La funcion objetivo seria: MIn (50 x (Numero de actores del dia 1) + 50 x (Numero de actores del dia 2))\n",
        "\n",
        "\n",
        "\n",
        "*   Las restricciones son las siguientes:\n",
        "\n",
        "      - El numero maximo de horas de grabacion es de 6 horas.\n",
        "      - Los actores deben estar presentes en las tomas que se hacen. En este caso, el valor tiene que ser 1.\n",
        "\n",
        "\n"
      ],
      "metadata": {
        "id": "67p_vszBposu"
      }
    },
    {
      "cell_type": "code",
      "metadata": {
        "id": "AiskKkzZfy4e"
      },
      "source": [
        "#Restricciones:\n",
        "max_tomas_por_dia = 6\n",
        "for k in range(1, min(i, max_tomas_por_dia) + 1):\n",
        "    print(k)\n"
      ],
      "execution_count": null,
      "outputs": []
    },
    {
      "cell_type": "markdown",
      "source": [
        "#Análisis\n",
        "- ¿Que complejidad tiene el problema?. Orden de complejidad y Contabilizar el espacio de soluciones"
      ],
      "metadata": {
        "id": "HZz52wOppp-U"
      }
    },
    {
      "cell_type": "code",
      "source": [
        "#Respuesta\n",
        "\n",
        "\"\"\"\n",
        "El problema tiene una complejidad de O(n2) (n al caudrado) para poder iterar todas las combinaciones de tomas y dias\n",
        "\n",
        "El espacio de soluciones de este problema suponiendo que tenemos 30 tomas y 10 actores, ademas de tener un maximo de 6 tomas cada dia es de 726 x (10 elevado a la 21) y se puede calcular con el codigo de abajo:\n",
        "\"\"\"\n",
        "from math import comb\n",
        "\n",
        "def count_solutions(n, k):\n",
        "    # Se crea una tabla de memorizacion para almacenar los resultados de subproblemas\n",
        "    memo = {}\n",
        "    def partitions(n, k):\n",
        "        # Casos base\n",
        "        if n == 0:\n",
        "            return 1\n",
        "        if k == 0 or n < 0:\n",
        "            return 0\n",
        "        if (n, k) in memo:\n",
        "            return memo[(n, k)]\n",
        "\n",
        "        # Calcular el número de espacio de soluciones\n",
        "        resultado = 0\n",
        "        for i in range(1, min(n, k) + 1):\n",
        "            resultado += comb(n - 1, i - 1) * partitions(n - i, k)\n",
        "\n",
        "        memo[(n, k)] = resultado\n",
        "        return resultado\n",
        "\n",
        "    return partitions(n, k)\n",
        "\n",
        "# Número de tomas (n) y máximo de tomas por día (k)\n",
        "n = 30\n",
        "k = 6\n",
        "num_solutions = count_solutions(n, k)\n",
        "print(num_solutions)\n",
        "\n"
      ],
      "metadata": {
        "id": "CZ-5BmpspttV",
        "colab": {
          "base_uri": "https://localhost:8080/"
        },
        "outputId": "ef0e60e5-5dd1-4ba1-866d-db77ba6e5db9"
      },
      "execution_count": 6,
      "outputs": [
        {
          "output_type": "stream",
          "name": "stdout",
          "text": [
            "726391948970868949621309\n"
          ]
        }
      ]
    },
    {
      "cell_type": "markdown",
      "source": [
        "#Diseño\n",
        "- ¿Que técnica utilizo? ¿Por qué?"
      ],
      "metadata": {
        "id": "ixEJUwH_pv7M"
      }
    },
    {
      "cell_type": "code",
      "source": [
        "#Respuesta\n",
        "\n",
        "\"\"\"\n",
        "Para poder solucionar este problema escogi la tecnica de Programacion Dinamica y estas son las razones:\n",
        "\n",
        "    - Descomposicion en subproblemas: La programación dinamica permite descomponer un problema complejo en subproblemas más pequeños y manejables. Al ser este un problema de calcular el menor costo y de tener un numero grande tomas y actores, calza perfecto el poder dividirlo en subproblemas.\n",
        "    - Reduccion de calculos: Al almacenar los resultados de los subproblemas en una tabla (memorizacion), la programacion dinamica evita volver a calcular los mismos subproblemas.\n",
        "    - Restricciones: La programación dinamica permite incorporar fácilmente restricciones, como el numero máximo de tomas por día y la necesidad de que los actores esten presentes en las sesiones, en este caso que sean de valor 1.\n",
        "    - Complejidad: Aunque el numero de espacio de soluciones sea alto la programación dinámica ofrece una manera estructurada de abordar el problema, reduciendo la complejidad en comparación con un enfoque de fuerza bruta que trataria con todas las combinaciones posibles\n",
        "\n",
        "El codigo usado para poder entender mejor el algoritmo es el siguiente:\n",
        "\n",
        "\"\"\"\n",
        "\n",
        "def min_cost_actores(tomas, actores, max_tomas_por_dia):\n",
        "    n = len(tomas)\n",
        "    dp = [[float('inf')] * (n + 1) for _ in range(n + 1)]\n",
        "    dp[0][0] = 0\n",
        "\n",
        "    for i in range(1, n + 1):\n",
        "        for j in range(1, n + 1):\n",
        "            for k in range(1, min(i, max_tomas_por_dia) + 1):\n",
        "                dp[i][j] = min(dp[i][j], dp[i - k][j - 1] + costo(tomas[i - k:i], actores))\n",
        "\n",
        "    return dp[n][n]\n",
        "\n",
        "def costo(tomas, actores):\n",
        "    return len(set(actores)) * costo_por_dia\n",
        "\n",
        "# Ejemplo de uso\n",
        "tomas = [[1, 2, 3, 4, 5, 6], [3, 4, 5], [2, 5, 7], [1, 2, 7, 8]]  # Tomas y actores involucrados, por ejemplo en la primera toma estan los actores 1,2,3,4,5,6 y en la toma 2 los actores 3,4,5\n",
        "actores = [1, 2, 3, 4, 5, 6, 7, 8, 9, 10] # Actores involucrados\n",
        "max_tomas_por_dia = 6\n",
        "costo_por_dia = 50\n",
        "print(min_cost_actores(tomas, actores, max_tomas_por_dia))\n"
      ],
      "metadata": {
        "id": "ZdKPjB9gp2BA",
        "colab": {
          "base_uri": "https://localhost:8080/"
        },
        "outputId": "35a72acf-22bb-4ea9-e571-e3d5a5eb6378"
      },
      "execution_count": 5,
      "outputs": [
        {
          "output_type": "stream",
          "name": "stdout",
          "text": [
            "2000\n"
          ]
        }
      ]
    }
  ]
}