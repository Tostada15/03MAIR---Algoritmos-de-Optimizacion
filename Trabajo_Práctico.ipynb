{
  "nbformat": 4,
  "nbformat_minor": 0,
  "metadata": {
    "colab": {
      "provenance": [],
      "include_colab_link": true
    },
    "kernelspec": {
      "name": "python3",
      "display_name": "Python 3"
    }
  },
  "cells": [
    {
      "cell_type": "markdown",
      "metadata": {
        "id": "view-in-github",
        "colab_type": "text"
      },
      "source": [
        "<a href=\"https://colab.research.google.com/github/Tostada15/03MAIR---Algoritmos-de-Optimizacion/blob/main/Trabajo_Pr%C3%A1ctico.ipynb\" target=\"_parent\"><img src=\"https://colab.research.google.com/assets/colab-badge.svg\" alt=\"Open In Colab\"/></a>"
      ]
    },
    {
      "cell_type": "markdown",
      "metadata": {
        "id": "hVbXYX-RfPWh"
      },
      "source": [
        "# Algoritmos de optimización - Trabajo Práctico<br>\n",
        "Nombre y Apellidos: Jorge Luis Tuesta Alvarez  <br>\n",
        "Url: https://github.com/Tostada15/03MAIR---Algoritmos-de-Optimizacion/blob/main/Trabajo_Pr%C3%A1ctico.ipynb<br>\n",
        "Google Colab: https://colab.research.google.com/drive/1hZtEDsSTZtGln4-6NgNKhlb4yf_Pwvy1 <br>\n",
        "Problema:\n",
        ">1. Sesiones de doblaje <br>\n",
        ">2. Organizar los horarios de partidos de una jornada de La Liga<br>\n",
        ">3. Configuración de Tribunales\n",
        "\n",
        "Descripción del problema:\n",
        "\n",
        "Se precisa coordinar el doblaje de una película. Los actores del doblaje deben coincidir en las\n",
        "tomas en las que sus personajes aparecen juntos en las diferentes tomas. Los actores de\n",
        "doblaje cobran todos la misma cantidad por cada día que deben desplazarse hasta el estudio de\n",
        "grabación independientemente del número de tomas que se graben. No es posible grabar más\n",
        "de 6 tomas por día. El objetivo es planificar las sesiones por día de manera que el gasto por los\n",
        "servicios de los actores de doblaje sea el menor posible.\n",
        "\n",
        "Los datos son:\n",
        "\n",
        "\n",
        "Número de actores: 10\n",
        "Número de tomas : 30\n",
        "Actores/Tomas : https://bit.ly/36D8IuK\n",
        "- 1 indica que el actor participa en la toma\n",
        "- 0 en caso contrario\n",
        "\n",
        "\n",
        "\n",
        "\n",
        "                                        "
      ]
    },
    {
      "cell_type": "markdown",
      "source": [
        "#Modelo\n",
        "- ¿Como represento el espacio de soluciones?\n",
        "- ¿Cual es la función objetivo?\n",
        "- ¿Como implemento las restricciones?"
      ],
      "metadata": {
        "id": "Sbo9IqQtpaHZ"
      }
    },
    {
      "cell_type": "markdown",
      "source": [
        "\n",
        "\n",
        "*   El espacio de soluciones es el conjunto de todas las formas posibles de agrupar las 30 tomas en días (con un máximo de 6 tomas por día).\n",
        "\n",
        "*   La funcion objetivo es minimizar el costo total de los actores teniendo en cuenta que cada actor cobra lo mismo por dia de grabacion independientemente del numero de tomas que se graban en ese dia.\n",
        "\n",
        "*   Las restricciones son las siguientes:\n",
        "\n",
        "      - El numero maximo de horas de grabacion es de 6 horas.\n",
        "      - Los actores deben estar presentes en las tomas que se hacen. En este caso, el valor tiene que ser 1.\n",
        "\n",
        "\n"
      ],
      "metadata": {
        "id": "67p_vszBposu"
      }
    },
    {
      "cell_type": "code",
      "metadata": {
        "id": "AiskKkzZfy4e"
      },
      "source": [
        "#Restricciones:\n",
        "max_tomas_por_dia = 6\n",
        "\n",
        "#Funcion Objetivo:\n",
        "\n",
        "def calcular_costo(plan):\n",
        "    costo_total = 0\n",
        "    for grupo in plan:\n",
        "        actores_presentes = set()\n",
        "        for toma in grupo:\n",
        "            actores_presentes.update(np.where(tomas[toma] == 1)[0])\n",
        "        costo_total += len(actores_presentes)\n",
        "    return costo_total\n"
      ],
      "execution_count": null,
      "outputs": []
    },
    {
      "cell_type": "markdown",
      "source": [
        "#Análisis\n",
        "- ¿Que complejidad tiene el problema?. Orden de complejidad y Contabilizar el espacio de soluciones"
      ],
      "metadata": {
        "id": "HZz52wOppp-U"
      }
    },
    {
      "cell_type": "code",
      "source": [
        "#Respuesta\n",
        "\n",
        "\"\"\"\n",
        "El problema tiene una complejidad de O(n2) (n al caudrado) para poder iterar todas las combinaciones de tomas y dias\n",
        "\n",
        "Para calcular el espacio de soluciones contando todas las formas posibles de agrupar las 30 tomas en días respetando la restricción de máximo 6 tomas por día.\n",
        "Esto equivale a contar todas las formas de particionar 30 elementos en grupos de tamaño máximo 6, que es: 437513522\n",
        "\n",
        "\"\"\"\n",
        "import math\n",
        "from functools import lru_cache\n",
        "\n",
        "N = 30\n",
        "MAX_TOMAS_DIA = 6\n",
        "\n",
        "@lru_cache(None)\n",
        "def contar_particiones(restantes, grupo_actual):\n",
        "\n",
        "    if restantes == 0:\n",
        "        return 1\n",
        "    if restantes < 0:\n",
        "        return 0\n",
        "    total_formas = 0\n",
        "    for tam_grupo in range(1, MAX_TOMAS_DIA + 1):  # Grupos de 1 a 6 tomas\n",
        "        total_formas += contar_particiones(restantes - tam_grupo, grupo_actual + 1)\n",
        "    return total_formas\n",
        "espacio_soluciones = contar_particiones(N, 0)\n",
        "print(f\"Total de espacio de soluciones: {espacio_soluciones}\")\n"
      ],
      "metadata": {
        "id": "CZ-5BmpspttV",
        "colab": {
          "base_uri": "https://localhost:8080/"
        },
        "outputId": "96051bae-724e-4e6c-f719-871c90094b4b"
      },
      "execution_count": null,
      "outputs": [
        {
          "output_type": "stream",
          "name": "stdout",
          "text": [
            "Total de particiones posibles: 437513522\n"
          ]
        }
      ]
    },
    {
      "cell_type": "markdown",
      "source": [
        "#Diseño\n",
        "- ¿Que técnica utilizo? ¿Por qué?"
      ],
      "metadata": {
        "id": "ixEJUwH_pv7M"
      }
    },
    {
      "cell_type": "code",
      "source": [
        "#Respuesta\n",
        "import numpy as np\n",
        "import random\n",
        "import math\n",
        "\"\"\"\n",
        "Para poder solucionar este problema escogi la tecnica del Recocido simulado que de hace una busqueda probabilística inspirado en el proceso físico de enfriamiento de metales.\n",
        "Se usa para encontrar una solución aproximada a problemas de optimización combinatoria\n",
        "\n",
        "- Evita mínimos locales: A diferencia del Hill Climbing, acepta soluciones \"malas\" con cierta probabilidad para evitar quedarse atascado en óptimos locales.\n",
        "\n",
        "- Eficiente para problemas grandes: No necesita evaluar todas las soluciones posibles (como en Programación Dinámica o Fuerza Bruta).\n",
        "\n",
        "- Flexible: Se puede adaptar a diferentes funciones de costo y restricciones.\n",
        "\n",
        "- Tiempo de ejecucion: Encuentra soluciones buenas en tiempo razonable.\n",
        "\n",
        "El codigo usado para poder entender mejor el algoritmo es el siguiente:\n",
        "\n",
        "\"\"\"\n",
        "\n",
        "tomas = [[1, 1, 1, 1, 1, 0, 0, 0, 0, 0],\n",
        " [0 ,0 ,1 ,1 ,1 ,0 ,0 ,0 ,0 ,0],\n",
        " [0 ,1 ,0 ,0 ,1 ,0 ,1 ,0 ,0 ,0],\n",
        " [1 ,1 ,0 ,0 ,0 ,0 ,1 ,1 ,0 ,0],\n",
        " [0, 1, 0, 1, 0, 0, 0, 1, 0, 0],\n",
        " [1, 1, 0, 1, 1, 0, 0, 0, 0, 0],\n",
        " [1, 1, 0, 1, 1, 0, 0, 0, 0, 0],\n",
        " [1, 1, 0, 0, 0, 1, 0, 0, 0, 0],\n",
        " [1, 1, 0, 1, 0, 0, 0, 0, 0, 0,],\n",
        " [1, 1, 0, 0, 0, 1, 0, 0, 1, 0],\n",
        " [1, 1, 1, 0, 1, 0, 0, 1, 0, 0],\n",
        " [1, 1, 1, 1, 0 ,1, 0, 0, 0, 0],\n",
        " [1, 0, 0, 1, 1, 0, 0, 0, 0, 0],\n",
        " [1, 0, 1, 0, 0, 1, 0, 0, 0, 0],\n",
        " [1, 1, 0, 0, 0, 0, 1, 0, 0, 0],\n",
        " [0, 0, 0, 1, 0, 0, 0, 0, 0, 1],\n",
        " [1, 0, 1, 0, 0, 0, 0, 0, 0, 0],\n",
        " [0, 0, 1, 0, 0, 1, 0, 0, 0, 0],\n",
        " [1, 0, 1, 0, 0, 0, 0, 0, 0, 0],\n",
        " [1, 0, 1, 1, 1, 0, 0, 0, 0, 0],\n",
        " [0, 0, 0, 0, 0, 1, 0, 1, 0, 0],\n",
        " [1, 1, 1, 1, 0, 0, 0, 0, 0, 0],\n",
        " [1, 0, 1, 0, 0, 0, 0, 0, 0, 0],\n",
        " [0, 0, 1, 0, 0, 1, 0, 0, 0, 0],\n",
        " [1, 1, 0, 1, 0, 0, 0, 0, 0, 1],\n",
        " [1, 0, 1, 0, 1, 0, 0, 0, 1, 0],\n",
        " [0, 0, 0, 1, 1, 0, 0, 0, 0, 0],\n",
        " [1, 0, 0, 1, 0, 0, 0, 0, 0, 0],\n",
        " [1, 0, 0, 0, 1, 1, 0, 0, 0, 0],\n",
        " [1, 0, 0, 1, 0, 0, 0, 0, 0, 0]]\n",
        "\n",
        "num_tomas = len(tomas)\n",
        "num_actores = len(tomas[0])\n",
        "num_dias = 5\n",
        "max_tomas_por_dia = 6\n",
        "\n",
        "def costo_distribucion(distribucion):\n",
        "    costo_total = 0\n",
        "    for dia in distribucion:\n",
        "        actores_en_dia = set()\n",
        "        for toma_idx in dia:\n",
        "            for actor_idx, participa in enumerate(tomas[toma_idx]):\n",
        "                if participa:\n",
        "                    actores_en_dia.add(actor_idx)\n",
        "        costo_total += len(actores_en_dia)\n",
        "    return costo_total\n",
        "\n",
        "def generar_distribucion_inicial():\n",
        "    indices = list(range(num_tomas))\n",
        "    random.shuffle(indices)\n",
        "    return [indices[i*max_tomas_por_dia:(i+1)*max_tomas_por_dia] for i in range(num_dias)]\n",
        "\n",
        "def generar_vecino(distribucion):\n",
        "    nuevo = [dia[:] for dia in distribucion]\n",
        "    d1, d2 = random.sample(range(num_dias), 2)\n",
        "    if not nuevo[d1] or not nuevo[d2]:\n",
        "        return nuevo\n",
        "    i1 = random.randint(0, len(nuevo[d1]) - 1)\n",
        "    i2 = random.randint(0, len(nuevo[d2]) - 1)\n",
        "    nuevo[d1][i1], nuevo[d2][i2] = nuevo[d2][i2], nuevo[d1][i1]\n",
        "    return nuevo\n",
        "\n",
        "def recocido_simulado(temp_inicial=1000, enfriamiento=0.95, iter_por_temp=100):\n",
        "    solucion = generar_distribucion_inicial()\n",
        "    mejor = [dia[:] for dia in solucion]\n",
        "    mejor_costo = costo_distribucion(mejor)\n",
        "    temp = temp_inicial\n",
        "\n",
        "    while temp > 1e-3:\n",
        "        for _ in range(iter_por_temp):\n",
        "            vecino = generar_vecino(solucion)\n",
        "            if any(len(dia) > max_tomas_por_dia for dia in vecino):\n",
        "                continue\n",
        "            costo_vecino = costo_distribucion(vecino)\n",
        "            delta = costo_vecino - costo_distribucion(solucion)\n",
        "            if delta < 0 or random.random() < math.exp(-delta / temp):\n",
        "                solucion = [dia[:] for dia in vecino]\n",
        "                if costo_vecino < mejor_costo:\n",
        "                    mejor = [dia[:] for dia in vecino]\n",
        "                    mejor_costo = costo_vecino\n",
        "        temp *= enfriamiento\n",
        "\n",
        "    return mejor, mejor_costo\n",
        "\n",
        "# Ejecutamos el algoritmo\n",
        "mejor_distribucion, costo_final = recocido_simulado()\n",
        "\n",
        "# Imprimir resultados con tomas numeradas del 1 al 30\n",
        "for i, dia in enumerate(mejor_distribucion, start=1):\n",
        "    tomas_dia = [t + 1 for t in dia]  # convertir a 1-based\n",
        "    print(f\"Día {i}: Tomas {tomas_dia}\")\n",
        "print(\"Costo total mínimo:\", costo_final)\n"
      ],
      "metadata": {
        "id": "ZdKPjB9gp2BA",
        "colab": {
          "base_uri": "https://localhost:8080/"
        },
        "outputId": "fd62b546-8e73-434c-a3c6-2a76b293c8e2"
      },
      "execution_count": null,
      "outputs": [
        {
          "output_type": "stream",
          "name": "stdout",
          "text": [
            "Día 1: Tomas [22, 9, 20, 27, 5, 11]\n",
            "Día 2: Tomas [8, 21, 3, 4, 29, 15]\n",
            "Día 3: Tomas [19, 14, 18, 23, 17, 24]\n",
            "Día 4: Tomas [6, 12, 1, 26, 10, 2]\n",
            "Día 5: Tomas [30, 7, 13, 28, 25, 16]\n",
            "Costo total mínimo: 27\n"
          ]
        }
      ]
    },
    {
      "cell_type": "code",
      "source": [],
      "metadata": {
        "id": "shuvg2nYF-7X"
      },
      "execution_count": null,
      "outputs": []
    }
  ]
}